{
 "cells": [
  {
   "cell_type": "code",
   "execution_count": null,
   "metadata": {},
   "outputs": [],
   "source": [
    "## SETUP ##\n",
    "\n",
    "import ccxt\n",
    "from Values import BYBIT_API_KEY, BYBIT_API_SECRET, OHLCV_DIR\n",
    "import pandas as pd\n",
    "from Utilities import *\n",
    "import warnings\n",
    "from pybit import usdt_perpetual\n",
    "\n",
    "pybit_auth = usdt_perpetual.HTTP(\n",
    "    endpoint=\"https://api.bybit.com\",\n",
    "    api_key=BYBIT_API_KEY,\n",
    "    api_secret=BYBIT_API_SECRET\n",
    ")\n",
    "\n",
    "# Switch Logging off and on\n",
    "debugLog = True\n",
    "\n",
    "warnings.simplefilter(action='ignore')\n",
    "pd.set_option('display.max_rows', None)\n",
    "\n",
    "bybit = ccxt.bybit({'apiKey': BYBIT_API_KEY, 'secret': BYBIT_API_SECRET})\n",
    "data_dir = OHLCV_DIR\n",
    "\n",
    "\n",
    "## Test OHLCV data ##\n",
    "base_cur = \"USDT\"\n",
    "exch_cur = \"DOGE\"\n",
    "symbol = '_'.join([exch_cur, base_cur])\n",
    "timeframe = \"5m\"\n",
    "maxCandles = 264\n",
    "runUpCandles = 0\n",
    "jsonfile = f\"{data_dir}{symbol}-{timeframe}.json\"\n",
    "print(jsonfile)\n",
    "df = pd.read_json(jsonfile)\n",
    "df = df.head(maxCandles)\n",
    "print(df)\n"
   ]
  }
 ],
 "metadata": {
  "kernelspec": {
   "display_name": "Python 3.10.4 ('env': venv)",
   "language": "python",
   "name": "python3"
  },
  "language_info": {
   "codemirror_mode": {
    "name": "ipython",
    "version": 3
   },
   "file_extension": ".py",
   "mimetype": "text/x-python",
   "name": "python",
   "nbconvert_exporter": "python",
   "pygments_lexer": "ipython3",
   "version": "3.10.4"
  },
  "orig_nbformat": 4,
  "vscode": {
   "interpreter": {
    "hash": "c0feaa977070d009f390d756ac9ef34cc6d07cb683bf40524b055ef062a60e18"
   }
  }
 },
 "nbformat": 4,
 "nbformat_minor": 2
}
