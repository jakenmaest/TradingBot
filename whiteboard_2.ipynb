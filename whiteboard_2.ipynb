{
 "cells": [
  {
   "cell_type": "code",
   "execution_count": 5,
   "metadata": {},
   "outputs": [
    {
     "name": "stdout",
     "output_type": "stream",
     "text": [
      "864.0\n",
      "./data/bybit//DOGEUSDT-5m.json\n",
      "No File Exists\n",
      "200\n"
     ]
    }
   ],
   "source": [
    "from time import mktime\n",
    "from Utilities import GetOCHLV, TimeFormat\n",
    "from time import mktime\n",
    "from datetime import datetime as date_time\n",
    "\n",
    "base_cur = \"USDT\"\n",
    "exch_cur = \"DOGE\"\n",
    "symbol = ''.join([exch_cur, base_cur])\n",
    "\n",
    "# Seconds in certain timeframe\n",
    "TSTAMP_1_MIN = 60.0\n",
    "TSTAMP_5_MIN = 300.0\n",
    "TSTAMP_10_MIN = 600.0\n",
    "TSTAMP_15_MIN = 900.0\n",
    "TSTAMP_20_MIN = 1200.0\n",
    "TSTAMP_30_MIN = 1800.0\n",
    "TSTAMP_45_MIN = 2700.0\n",
    "TSTAMP_1_HOUR = 3600.0\n",
    "TSTAMP_1_DAY = 86400.0\n",
    "TSTAMP_1_WEEK = 604800\n",
    "\n",
    "# No time specified\n",
    "sTime = date_time(2022,7,7)\n",
    "eTime = date_time(2022,7,9)\n",
    "\n",
    "sTstamp = mktime(sTime.timetuple()) # start of start day\n",
    "eTstamp = mktime(eTime.timetuple()) + TSTAMP_1_DAY # end of end day\n",
    "print(f\"{((eTstamp-sTstamp)/60)/5}\")\n",
    "#print(f\"start {date_time.fromtimestamp(sTstamp)}:{sTstamp}\")\n",
    "#print(f\"finish {date_time.fromtimestamp(eTstamp)}:{eTstamp}\")\n",
    "print(len(GetOCHLV(symbol=symbol, timeframe='5m', start=sTstamp, end=eTstamp)))"
   ]
  }
 ],
 "metadata": {
  "kernelspec": {
   "display_name": "Python 3.10.4 ('env': venv)",
   "language": "python",
   "name": "python3"
  },
  "language_info": {
   "codemirror_mode": {
    "name": "ipython",
    "version": 3
   },
   "file_extension": ".py",
   "mimetype": "text/x-python",
   "name": "python",
   "nbconvert_exporter": "python",
   "pygments_lexer": "ipython3",
   "version": "3.10.4"
  },
  "orig_nbformat": 4,
  "vscode": {
   "interpreter": {
    "hash": "c0feaa977070d009f390d756ac9ef34cc6d07cb683bf40524b055ef062a60e18"
   }
  }
 },
 "nbformat": 4,
 "nbformat_minor": 2
}
